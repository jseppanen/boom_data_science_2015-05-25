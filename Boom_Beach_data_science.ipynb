{
 "metadata": {
  "celltoolbar": "Slideshow",
  "name": "",
  "signature": "sha256:abcd040ba5ad3e37538010bdf821536da438826fd7ac169f1ca0b6d52f4ec7d6"
 },
 "nbformat": 3,
 "nbformat_minor": 0,
 "worksheets": [
  {
   "cells": [
    {
     "cell_type": "markdown",
     "metadata": {
      "slideshow": {
       "slide_type": "slide"
      }
     },
     "source": [
      "# Boom Beach Data Science\n",
      "\n",
      "<div style=\"float:right; width:40%\">\n",
      "![Boom Beach](boom_icon.png)\n",
      "</div>\n",
      "\n",
      "### Helsinki Data Science Meetup<br>2015-05-25\n",
      "### Jarno Sepp\u00e4nen"
     ]
    },
    {
     "cell_type": "markdown",
     "metadata": {
      "slideshow": {
       "slide_type": "slide"
      }
     },
     "source": [
      "# Overview\n",
      "\n",
      "## I&ensp;Boom Beach Background\n",
      "\n",
      "## II&ensp;Data science in a game team\n",
      "\n",
      "90% of the daily work\n",
      "\n",
      "## III&ensp;Task force operation difficulty predictor\n",
      "\n",
      "5% of the daily work"
     ]
    },
    {
     "cell_type": "markdown",
     "metadata": {
      "slideshow": {
       "slide_type": "slide"
      }
     },
     "source": [
      "# I&ensp;Boom Beach\n",
      "\n",
      "### Come with a plan or leave in defeat!\n",
      "\n",
      "<div style=\"float:right; width:50%\">\n",
      "![Boom Beach](bb_loading_screen.jpg)\n",
      "</div>\n",
      "\n",
      "Combat strategy game set in tropical archipelago\n",
      "\n",
      "Attack hundreds of unique island bases\n",
      "\n",
      "Explore a huge tropical archipelago\n",
      "\n",
      "Raid other players' bases\n",
      "\n",
      "Defeat the evil Blackguard"
     ]
    },
    {
     "cell_type": "markdown",
     "metadata": {
      "slideshow": {
       "slide_type": "slide"
      }
     },
     "source": [
      "# II&ensp;Data science in a game team\n",
      "\n",
      "One data scientist in each (live) game team\n",
      "\n",
      "Support the game development and maintenance work by data and stats\n",
      "\n",
      "Very important: responsible for **interpreting** the statistics\n",
      "\n",
      "Work is fast-paced, mostly short-term (same day) tasks"
     ]
    },
    {
     "cell_type": "markdown",
     "metadata": {
      "slideshow": {
       "slide_type": "slide"
      }
     },
     "source": [
      "# What's a data scientist\n",
      "\n",
      "Data scientist is an overloaded term\n",
      "\n",
      "Game team data scientist: descriptive/exploratory work\n",
      "* What's happening out there in the world among our players?\n",
      "* How are the players responding to the game product?"
     ]
    },
    {
     "cell_type": "markdown",
     "metadata": {
      "slideshow": {
       "slide_type": "fragment"
      }
     },
     "source": [
      "Support decision making\n",
      "* Fact checking before decisions\n",
      "* Learning after decisions"
     ]
    },
    {
     "cell_type": "markdown",
     "metadata": {
      "slideshow": {
       "slide_type": "fragment"
      }
     },
     "source": [
      "Practically \"ad hoc\" work\n",
      "* Write-only programming :)\n",
      "* Interactive querying and visualization\n",
      "* Writing reports\n",
      "* Relatively little A/B testing\n",
      "* (Almost) no data products"
     ]
    },
    {
     "cell_type": "markdown",
     "metadata": {
      "slideshow": {
       "slide_type": "subslide"
      }
     },
     "source": [
      "# What's a game team\n",
      "\n",
      "Game team is a small (less than 20 member) team responsible for the game product\n",
      "* Our games are services that are continuously being improved\n",
      "\n",
      "![Game team](gameteam.png)"
     ]
    },
    {
     "cell_type": "markdown",
     "metadata": {
      "slideshow": {
       "slide_type": "subslide"
      }
     },
     "source": [
      "## Game design principles\n",
      "Making the games fun\n",
      "\n",
      "Long lasting\n",
      "\n",
      "Listening to players\n",
      "\n",
      "Playing the game yourself"
     ]
    },
    {
     "cell_type": "markdown",
     "metadata": {
      "slideshow": {
       "slide_type": "subslide"
      }
     },
     "source": [
      "## Game development is an artisanal craft\n",
      "* Everything comes from the experience and skill of the team"
     ]
    },
    {
     "cell_type": "markdown",
     "metadata": {
      "slideshow": {
       "slide_type": "fragment"
      }
     },
     "source": [
      "**FALSE:** *\"Supercell games are based on a data-driven formula\"*"
     ]
    },
    {
     "cell_type": "markdown",
     "metadata": {
      "slideshow": {
       "slide_type": "fragment"
      }
     },
     "source": [
      "Instead: *The best people make the best games*"
     ]
    },
    {
     "cell_type": "markdown",
     "metadata": {
      "slideshow": {
       "slide_type": "fragment"
      }
     },
     "source": [
      "Data scientist is only needed **after** a game goes to beta\n",
      "* A game has to exist, and have players, to be able to generate any data"
     ]
    },
    {
     "cell_type": "markdown",
     "metadata": {
      "slideshow": {
       "slide_type": "slide"
      }
     },
     "source": [
      "# Customers of analytics\n",
      "\n",
      "Game teams\n",
      "\n",
      "Finance\n",
      "\n",
      "Marketing\n",
      "\n",
      "Player support\n",
      "\n",
      "Community\n",
      "\n",
      "Leadership\n",
      "\n",
      "Everybody in the company!"
     ]
    },
    {
     "cell_type": "markdown",
     "metadata": {
      "slideshow": {
       "slide_type": "slide"
      }
     },
     "source": [
      "# Example KPI's\n",
      "\n",
      "> *So LTV increased because D7&ndash;180 retentions have improved while ARPDAU has stayed flat, or what's the reason?*<br>\n",
      "> &ndash; someone somewhere"
     ]
    },
    {
     "cell_type": "markdown",
     "metadata": {
      "slideshow": {
       "slide_type": "fragment"
      }
     },
     "source": [
      "**Retention:**  how many players return to the game *d* days after installation\n",
      "* Day-1 retention, day-7 retention, &hellip;"
     ]
    },
    {
     "cell_type": "markdown",
     "metadata": {
      "slideshow": {
       "slide_type": "fragment"
      }
     },
     "source": [
      "* 40%, 20%, 10% retention for D1, D7, D30 used to be considered \"good enough\""
     ]
    },
    {
     "cell_type": "markdown",
     "metadata": {
      "slideshow": {
       "slide_type": "fragment"
      }
     },
     "source": [
      "* Compare: Clash of Clans has 10% D720 retention"
     ]
    },
    {
     "cell_type": "markdown",
     "metadata": {
      "slideshow": {
       "slide_type": "fragment"
      }
     },
     "source": [
      "**LTV:** lifetime value, essentially ARPU at 180 or 360 days after installation\n",
      "\n",
      "**ARPU:** average revenue per user, over *d* days after installation\n",
      "* Day-1 ARPU, day-7 ARPU, &hellip;"
     ]
    },
    {
     "cell_type": "markdown",
     "metadata": {
      "slideshow": {
       "slide_type": "fragment"
      }
     },
     "source": [
      "**ARPDAU:** average revenue per DAU\n",
      "\n",
      "**DAU:** daily active users"
     ]
    },
    {
     "cell_type": "markdown",
     "metadata": {
      "slideshow": {
       "slide_type": "subslide"
      }
     },
     "source": [
      "## Plus others, ad infinitum\n",
      "* **MAU:** monthly active users\n",
      "* **Revenue:** daily, weekly, monthly, &hellip;\n",
      "* **Session count, length**\n",
      "* **New players:** how many players installed the game\n",
      "* **Concurrent players:** how many players are logged in simultaneously\n",
      "* **PLTV:** predicted LTV, expected value of LTV in the future"
     ]
    },
    {
     "cell_type": "markdown",
     "metadata": {
      "slideshow": {
       "slide_type": "fragment"
      }
     },
     "source": [
      "## Sliced and diced\n",
      "By country, state, platform, marketing network, language, &hellip;\n",
      "\n",
      "<pre>\n",
      "SELECT SUM(x), AVG(y) FROM table GROUP BY z\n",
      "</pre>"
     ]
    },
    {
     "cell_type": "markdown",
     "metadata": {
      "slideshow": {
       "slide_type": "subslide"
      }
     },
     "source": [
      "## Some warnings\n",
      "1. KPI's are defined differently in different organizations\n",
      "2. KPI's are computed differently in different organizations\n",
      "3. Data pipeline will influence how KPI's will turn out"
     ]
    },
    {
     "cell_type": "markdown",
     "metadata": {
      "slideshow": {
       "slide_type": "slide"
      }
     },
     "source": [
      "# Example game analytics questions\n",
      "\n",
      "What are our DAU and revenue going to be six months ahead?"
     ]
    },
    {
     "cell_type": "markdown",
     "metadata": {
      "slideshow": {
       "slide_type": "subslide"
      }
     },
     "source": [
      "Are the Dr. Terror levels and Task Force operations challenging enough for endgame players?"
     ]
    },
    {
     "cell_type": "markdown",
     "metadata": {
      "slideshow": {
       "slide_type": "subslide"
      }
     },
     "source": [
      "Was the $1 price point worth introducing?"
     ]
    },
    {
     "cell_type": "markdown",
     "metadata": {
      "slideshow": {
       "slide_type": "subslide"
      }
     },
     "source": [
      "What are the win rates by troops and troop combinations, and their recent trends?"
     ]
    },
    {
     "cell_type": "markdown",
     "metadata": {
      "slideshow": {
       "slide_type": "subslide"
      }
     },
     "source": [
      "How many players churn after game updates?"
     ]
    },
    {
     "cell_type": "markdown",
     "metadata": {
      "slideshow": {
       "slide_type": "subslide"
      }
     },
     "source": [
      "Is the PvP matchmaking working as intended?"
     ]
    },
    {
     "cell_type": "markdown",
     "metadata": {
      "slideshow": {
       "slide_type": "subslide"
      }
     },
     "source": [
      "How many bases do the players have on their maps?"
     ]
    },
    {
     "cell_type": "markdown",
     "metadata": {
      "slideshow": {
       "slide_type": "subslide"
      }
     },
     "source": [
      "How is the Arabic localization usage picking up?"
     ]
    },
    {
     "cell_type": "markdown",
     "metadata": {
      "slideshow": {
       "slide_type": "subslide"
      }
     },
     "source": [
      "Could you sample nice task force attacks to be replayed in the company lobby daily?"
     ]
    },
    {
     "cell_type": "markdown",
     "metadata": {
      "slideshow": {
       "slide_type": "subslide"
      }
     },
     "source": [
      "Could you generate a leaderboard of top Chinese players?"
     ]
    },
    {
     "cell_type": "markdown",
     "metadata": {
      "slideshow": {
       "slide_type": "subslide"
      }
     },
     "source": [
      "How important is player-vs-player (PvP) compared to player-vs-environment (PvE)?"
     ]
    },
    {
     "cell_type": "markdown",
     "metadata": {
      "slideshow": {
       "slide_type": "subslide"
      }
     },
     "source": [
      "Which troop combinations are being used the most and the least?"
     ]
    },
    {
     "cell_type": "markdown",
     "metadata": {
      "slideshow": {
       "slide_type": "subslide"
      }
     },
     "source": [
      "Are new troops replacing some older ones?"
     ]
    },
    {
     "cell_type": "markdown",
     "metadata": {
      "slideshow": {
       "slide_type": "subslide"
      }
     },
     "source": [
      "How many players are playing the in-game events (Dr. Terror, Gearheart, Hammerman attack)?"
     ]
    },
    {
     "cell_type": "markdown",
     "metadata": {
      "slideshow": {
       "slide_type": "subslide"
      }
     },
     "source": [
      "Are the Power Bases well-balanced?"
     ]
    },
    {
     "cell_type": "markdown",
     "metadata": {
      "slideshow": {
       "slide_type": "subslide"
      }
     },
     "source": [
      "Is the tutorial funnel working or is there a problem?"
     ]
    },
    {
     "cell_type": "markdown",
     "metadata": {
      "slideshow": {
       "slide_type": "subslide"
      }
     },
     "source": [
      "What's the outcome of the recent TV campaigns?"
     ]
    },
    {
     "cell_type": "markdown",
     "metadata": {
      "slideshow": {
       "slide_type": "subslide"
      }
     },
     "source": [
      "How many riflemen were deployed during first year of Boom?\n",
      "* 118,000,000,000 (of which only 36% survived)"
     ]
    },
    {
     "cell_type": "markdown",
     "metadata": {
      "slideshow": {
       "slide_type": "subslide"
      }
     },
     "source": [
      "How much resources do players have, gain, and consume by HQ level?\n",
      "* One integer overflow bug was first found by staring at data"
     ]
    },
    {
     "cell_type": "markdown",
     "metadata": {
      "slideshow": {
       "slide_type": "subslide"
      }
     },
     "source": [
      "How many players logged in between 11:55&ndash;15:35 EET?"
     ]
    },
    {
     "cell_type": "markdown",
     "metadata": {
      "slideshow": {
       "slide_type": "subslide"
      }
     },
     "source": [
      "Are the push notifications valuable?"
     ]
    },
    {
     "cell_type": "markdown",
     "metadata": {
      "slideshow": {
       "slide_type": "subslide"
      }
     },
     "source": [
      "## You probably got the point\n",
      "\n",
      "&hellip;that the list is endless"
     ]
    },
    {
     "cell_type": "markdown",
     "metadata": {
      "slideshow": {
       "slide_type": "subslide"
      }
     },
     "source": [
      "## Meta-questions\n",
      "1. Why is metric X changing?\n",
      "  * Usually asked during the update cycle\n",
      "2. Why is metrix X not changing?\n",
      "  * Usually asked after a game update\n",
      "3. Why is metric X so good/bad in market Y?"
     ]
    },
    {
     "cell_type": "markdown",
     "metadata": {
      "slideshow": {
       "slide_type": "slide"
      }
     },
     "source": [
      "# III&ensp;Task Force operation difficulty predictor\n",
      "\n",
      "* Currently the only in-game data product\n",
      "\n",
      "## Task Forces\n",
      "\n",
      "* Collaborative gameplay feature\n",
      "* Players can form Task Forces with up to 50 members in each\n",
      "* Task Forces organize collaborative attacks against the evil Blackguard\n",
      "* Each operation is run by one task force against one target"
     ]
    },
    {
     "cell_type": "markdown",
     "metadata": {
      "slideshow": {
       "slide_type": "subslide"
      }
     },
     "source": [
      "# The problem\n",
      "\n",
      "![Operations map](tf_map.jpg)\n"
     ]
    },
    {
     "cell_type": "markdown",
     "metadata": {
      "slideshow": {
       "slide_type": "slide"
      }
     },
     "source": [
      "# The solution overview\n",
      "\n",
      "## Inputs:\n",
      "\n",
      "1. XP levels of all Task Force members: list of up to 50 integers, each between 12&ndash;62\n",
      "2. Operation tier: integer between 1&ndash;20\n",
      "\n",
      "There are in total more than $10^{15}$ different task force combinations."
     ]
    },
    {
     "cell_type": "markdown",
     "metadata": {
      "slideshow": {
       "slide_type": "fragment"
      }
     },
     "source": [
      "## Output:\n",
      "\n",
      "Success probability (win rate), as a label: *too easy, easy, normal, hard, impossible*"
     ]
    },
    {
     "cell_type": "markdown",
     "metadata": {
      "slideshow": {
       "slide_type": "fragment"
      }
     },
     "source": [
      "## Algorithm:\n",
      "\n",
      "Logistic regression"
     ]
    },
    {
     "cell_type": "markdown",
     "metadata": {
      "slideshow": {
       "slide_type": "slide"
      }
     },
     "source": [
      "# The solution, with details\n",
      "\n",
      "## Inputs:\n",
      "\n",
      "Encode operation tier $t=\\{1, \\ldots, 20\\}$ and player XP level $p=\\{12, \\ldots, 62\\}$ into a feature vector:\n",
      "\n",
      "$$\n",
      "\\begin{aligned}\n",
      "\\mathbf{x} = [&b, \\\\\n",
      "&x_{\\textrm{tier}=1}, \\\\\n",
      "&\\ldots, \\\\\n",
      "&x_{\\textrm{tier}=20}, \\\\\n",
      "&\\ldots, \\\\\n",
      "&x_{\\textrm{xp}=p}, \\\\\n",
      "&\\ldots, \\\\\n",
      "&x_{\\textrm{tier}=t,\\, \\textrm{xp}=p}]\n",
      "\\end{aligned}\n",
      "$$\n"
     ]
    },
    {
     "cell_type": "markdown",
     "metadata": {
      "slideshow": {
       "slide_type": "fragment"
      }
     },
     "source": [
      "* Both the operation tier and XP levels are encoded as one-hot vectors and concatenated together.\n",
      "* Also, we add 20 &times; 51 interaction features for all combinations of operation tiers and XP levels\n",
      "* Note also the linear regressor bias term $b$.\n",
      "\n",
      "Labels come from whether the task force operations were successful or not:\n",
      "\n",
      "$$y \\in \\{-1, 1\\}$$"
     ]
    },
    {
     "cell_type": "markdown",
     "metadata": {
      "slideshow": {
       "slide_type": "subslide"
      }
     },
     "source": [
      "## Output:\n",
      "\n",
      "The logistic regressor predicts the win rate of a given task force in each operation:\n",
      "\n",
      "$$\n",
      "\\hat{y} = \\frac{1}{1 + \\exp(-\\mathbf{w}^T\\mathbf{x})}\n",
      "$$\n",
      "\n",
      "## Algorithm:\n",
      "\n",
      "Logistic regression, loss function:\n",
      "$$\n",
      "L(\\mathbf{w}) = \\sum_i \\log (1 + \\exp (-y_i \\mathbf{w}^T\\mathbf{x}_i)) + \\frac{\\lambda}{2} \\mathbf{w}^T\\mathbf{w}\n",
      "$$\n",
      "\n",
      "* Choose weights $\\mathbf{w}$ that minimize loss $L$\n",
      "* Set regularizer parameter $\\lambda$ with held-out validation\n",
      "* Plug and play:\n",
      "<pre>\n",
      "from sklearn.linear_model import LogisticRegression\n",
      "model = LogisticRegression(C=1e3)\n",
      "model.fit(X, y)\n",
      "</pre>"
     ]
    },
    {
     "cell_type": "markdown",
     "metadata": {
      "slideshow": {
       "slide_type": "slide"
      }
     },
     "source": [
      "# Done!?"
     ]
    },
    {
     "cell_type": "markdown",
     "metadata": {
      "slideshow": {
       "slide_type": "fragment"
      }
     },
     "source": [
      "Show to team, who are **not happy**\n",
      "\n",
      "Instead, additional requirements emerge"
     ]
    },
    {
     "cell_type": "markdown",
     "metadata": {
      "slideshow": {
       "slide_type": "fragment"
      }
     },
     "source": [
      "# The problem, take two\n",
      "\n",
      "1. The difficulty goes up with the tiers (tier 1 > &hellip; > tier 20)\n",
      "2. The difficulty goes down with XP levels (XP 1 < &hellip; < XP 62)\n",
      "3. The difficulty goes down with more players (1 < &hellip; < 50)\n"
     ]
    },
    {
     "cell_type": "markdown",
     "metadata": {
      "slideshow": {
       "slide_type": "slide"
      }
     },
     "source": [
      "# The solution, take two\n",
      "\n",
      "Transform the solution for constrained optimization."
     ]
    },
    {
     "cell_type": "markdown",
     "metadata": {
      "slideshow": {
       "slide_type": "fragment"
      }
     },
     "source": [
      "## Inputs\n",
      "\n",
      "Design feature vector encoding for nonnegative weight vector values:\n",
      "\n",
      "$$\n",
      "\\begin{aligned}\n",
      "\\mathbf{x} = [&b, \\\\\n",
      "&x_{\\textrm{tier}<2}, \\\\\n",
      "&\\ldots, \\\\\n",
      "&x_{\\textrm{tier}<20}, \\\\\n",
      "&x_{\\textrm{xp}>11}, \\\\\n",
      "&\\ldots, \\\\\n",
      "&x_{\\textrm{xp}>61}, \\\\\n",
      "&x_{\\textrm{tier}<t,\\, \\textrm{xp}>p}]\n",
      "\\end{aligned}\n",
      "$$\n",
      "\n",
      "Note that win rates should go up with **decreasing** tier and **increasing** XP.\n",
      "\n",
      "For example,\n",
      "* Weight of $x_{\\textrm{tier}<2}$ feature represents how much easier tier 1 is compared to tier&nbsp;2\n",
      "* Weight of $x_{\\textrm{xp}>61}$ feature represents how much better XP 62 player is compared to XP&nbsp;61"
     ]
    },
    {
     "cell_type": "markdown",
     "metadata": {
      "slideshow": {
       "slide_type": "subslide"
      }
     },
     "source": [
      "## Outputs\n",
      "\n",
      "Same training labels, same predictions (win rate)\n",
      "\n",
      "## Algorithm\n",
      "\n",
      "Same logistic regression, but with constraints:\n",
      "$$\n",
      "w_j \\ge 0\n",
      "$$"
     ]
    },
    {
     "cell_type": "markdown",
     "metadata": {
      "slideshow": {
       "slide_type": "fragment"
      }
     },
     "source": [
      "* There is no such thing as constrained logistic regression in scikit-learn\n",
      "* `scipy.optimize` module has high-quality constrained optimization routines, and we need the gradient of the loss function for those:\n",
      "\n",
      "$$\n",
      "\\frac{\\partial L}{\\partial \\mathbf{w}} = \\sum_i \\frac{-y_i\\mathbf{x}_i \\exp (-y_i \\mathbf{w}^T\\mathbf{x}_i)}{1 + \\exp(-y_i \\mathbf{w}^T\\mathbf{x}_i)} + \\lambda \\mathbf{w}\n",
      "$$\n",
      "\n",
      "Then, run L-BFGS-B with the above constraints and the logistic loss and gradient functions."
     ]
    },
    {
     "cell_type": "markdown",
     "metadata": {
      "slideshow": {
       "slide_type": "subslide"
      }
     },
     "source": [
      "# Done!!\n",
      "\n",
      "![Operation difficulty labels](tf_map_labeled.jpg)"
     ]
    },
    {
     "cell_type": "markdown",
     "metadata": {
      "slideshow": {
       "slide_type": "subslide"
      }
     },
     "source": [
      "# Practicalities\n",
      "\n",
      "* Training examples extracted from game events using Pig on EMR\n",
      "* Model fitting done on laptop\n",
      "* Weight vectors deployed as a hardcoded Java class, compiled into the game server\n",
      "* A simple web page/javascript implementation is good for development, testing, and also selling the result\n",
      "\n",
      "## Bonus question\n",
      "\n",
      "* What to do when the team wants to introduce two new operation tiers?"
     ]
    },
    {
     "cell_type": "markdown",
     "metadata": {
      "slideshow": {
       "slide_type": "slide"
      }
     },
     "source": [
      "# Thank you!"
     ]
    }
   ],
   "metadata": {}
  }
 ]
}